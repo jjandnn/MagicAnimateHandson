{
  "nbformat": 4,
  "nbformat_minor": 0,
  "metadata": {
    "colab": {
      "provenance": [],
      "gpuType": "T4",
      "authorship_tag": "ABX9TyNFvY7yOjRxLrUfn2HULoQO",
      "include_colab_link": true
    },
    "kernelspec": {
      "name": "python3",
      "display_name": "Python 3"
    },
    "language_info": {
      "name": "python"
    },
    "accelerator": "GPU"
  },
  "cells": [
    {
      "cell_type": "markdown",
      "metadata": {
        "id": "view-in-github",
        "colab_type": "text"
      },
      "source": [
        "<a href=\"https://colab.research.google.com/github/peisuke/MagicAnimateHandson/blob/main/03_openpose_for_magic_animate.ipynb\" target=\"_parent\"><img src=\"https://colab.research.google.com/assets/colab-badge.svg\" alt=\"Open In Colab\"/></a>"
      ]
    },
    {
      "cell_type": "code",
      "source": [
        "# Google Driveのマウント\n",
        "from google.colab import drive\n",
        "drive.mount('/content/drive')"
      ],
      "metadata": {
        "colab": {
          "base_uri": "https://localhost:8080/"
        },
        "id": "m6hF3aPEX6C3",
        "outputId": "12f17ad0-f8dc-49fd-8f02-c6be6912e198"
      },
      "execution_count": null,
      "outputs": [
        {
          "output_type": "stream",
          "name": "stdout",
          "text": [
            "Mounted at /content/drive\n"
          ]
        }
      ]
    },
    {
      "cell_type": "code",
      "execution_count": null,
      "metadata": {
        "colab": {
          "base_uri": "https://localhost:8080/"
        },
        "id": "Yue0Ve4_OkBy",
        "outputId": "330a1055-5c4e-4d9a-f564-65a4c3f416e0"
      },
      "outputs": [
        {
          "output_type": "stream",
          "name": "stdout",
          "text": [
            "nvcc: NVIDIA (R) Cuda compiler driver\n",
            "Copyright (c) 2005-2022 NVIDIA Corporation\n",
            "Built on Wed_Sep_21_10:33:58_PDT_2022\n",
            "Cuda compilation tools, release 11.8, V11.8.89\n",
            "Build cuda_11.8.r11.8/compiler.31833905_0\n",
            "Wed Dec  6 14:04:58 2023       \n",
            "+-----------------------------------------------------------------------------+\n",
            "| NVIDIA-SMI 525.105.17   Driver Version: 525.105.17   CUDA Version: 12.0     |\n",
            "|-------------------------------+----------------------+----------------------+\n",
            "| GPU  Name        Persistence-M| Bus-Id        Disp.A | Volatile Uncorr. ECC |\n",
            "| Fan  Temp  Perf  Pwr:Usage/Cap|         Memory-Usage | GPU-Util  Compute M. |\n",
            "|                               |                      |               MIG M. |\n",
            "|===============================+======================+======================|\n",
            "|   0  Tesla T4            Off  | 00000000:00:04.0 Off |                    0 |\n",
            "| N/A   38C    P8     9W /  70W |      0MiB / 15360MiB |      0%      Default |\n",
            "|                               |                      |                  N/A |\n",
            "+-------------------------------+----------------------+----------------------+\n",
            "                                                                               \n",
            "+-----------------------------------------------------------------------------+\n",
            "| Processes:                                                                  |\n",
            "|  GPU   GI   CI        PID   Type   Process name                  GPU Memory |\n",
            "|        ID   ID                                                   Usage      |\n",
            "|=============================================================================|\n",
            "|  No running processes found                                                 |\n",
            "+-----------------------------------------------------------------------------+\n"
          ]
        }
      ],
      "source": [
        "# 最初に、ランタイムの種類を「GPU」に変更してください。（ランタイム＞ランタイムのタイプを変更）\n",
        "# GPUが有効になっていることを確認します。\n",
        "\n",
        "# First, change the runtime type to \"GPU\".\n",
        "# Confirm runtime to GPU\n",
        "! nvcc --version\n",
        "! nvidia-smi"
      ]
    },
    {
      "cell_type": "code",
      "source": [
        "!wget -q https://cmake.org/files/v3.13/cmake-3.13.0-Linux-x86_64.tar.gz\n",
        "!tar xfz cmake-3.13.0-Linux-x86_64.tar.gz --strip-components=1 -C /usr/local"
      ],
      "metadata": {
        "id": "pwnQIgfrUWEU"
      },
      "execution_count": null,
      "outputs": []
    },
    {
      "cell_type": "code",
      "source": [
        "!git clone --depth 1 -b v1.7.0 https://github.com/CMU-Perceptual-Computing-Lab/openpose.git\n",
        "%cd openpose"
      ],
      "metadata": {
        "colab": {
          "base_uri": "https://localhost:8080/"
        },
        "id": "hprbKNAvX5_G",
        "outputId": "b3120d2f-5405-4301-e232-468d22e52b3a"
      },
      "execution_count": null,
      "outputs": [
        {
          "output_type": "stream",
          "name": "stdout",
          "text": [
            "Cloning into 'openpose'...\n",
            "remote: Enumerating objects: 659, done.\u001b[K\n",
            "remote: Counting objects: 100% (659/659), done.\u001b[K\n",
            "remote: Compressing objects: 100% (625/625), done.\u001b[K\n",
            "remote: Total 659 (delta 171), reused 162 (delta 24), pack-reused 0\u001b[K\n",
            "Receiving objects: 100% (659/659), 46.51 MiB | 36.75 MiB/s, done.\n",
            "Resolving deltas: 100% (171/171), done.\n",
            "Note: switching to '8ca5c1d95a42340b323e9273654d1db98bec779c'.\n",
            "\n",
            "You are in 'detached HEAD' state. You can look around, make experimental\n",
            "changes and commit them, and you can discard any commits you make in this\n",
            "state without impacting any branches by switching back to a branch.\n",
            "\n",
            "If you want to create a new branch to retain commits you create, you may\n",
            "do so (now or later) by using -c with the switch command. Example:\n",
            "\n",
            "  git switch -c <new-branch-name>\n",
            "\n",
            "Or undo this operation with:\n",
            "\n",
            "  git switch -\n",
            "\n",
            "Turn off this advice by setting config variable advice.detachedHead to false\n",
            "\n",
            "/content/openpose\n"
          ]
        }
      ]
    },
    {
      "cell_type": "code",
      "source": [
        "# Basic\n",
        "!sudo apt-get --assume-yes update\n",
        "!sudo apt-get --assume-yes install build-essential\n",
        "\n",
        "# OpenCV\n",
        "!sudo apt-get --assume-yes install libopencv-dev\n",
        "\n",
        "# General dependencies\n",
        "!sudo apt-get --assume-yes install libatlas-base-dev libprotobuf-dev libleveldb-dev libsnappy-dev libhdf5-serial-dev protobuf-compiler\n",
        "!sudo apt-get --assume-yes install --no-install-recommends libboost-all-dev\n",
        "\n",
        "# Remaining dependencies, 14.04\n",
        "!sudo apt-get --assume-yes install libgflags-dev libgoogle-glog-dev liblmdb-dev\n",
        "\n",
        "# Python3 libs\n",
        "!sudo apt-get --assume-yes install python3-setuptools python3-dev build-essential\n",
        "!sudo apt-get --assume-yes install python3-pip\n",
        "!sudo -H pip3 install --upgrade numpy protobuf opencv-python\n",
        "\n",
        "# OpenCL Generic\n",
        "!sudo apt-get --assume-yes install opencl-headers ocl-icd-opencl-dev\n",
        "!sudo apt-get --assume-yes install libviennacl-dev"
      ],
      "metadata": {
        "id": "P2g5GgQ5YBKx"
      },
      "execution_count": null,
      "outputs": []
    },
    {
      "cell_type": "code",
      "source": [
        "# copy open pose model from https://drive.google.com/drive/folders/1USEdy_7uvwO4PIqsQJq8kT0sX4H4f7nn?usp=drive_link\n",
        "!cp \"/content/drive/MyDrive/AI/video/openpose/pose_iter_584000.caffemodel\" models/pose/body_25/\n",
        "!cp \"/content/drive/MyDrive/AI/video/openpose/pose_iter_102000.caffemodel\" models/hand/\n",
        "!cp \"/content/drive/MyDrive/AI/video/openpose/pose_iter_116000.caffemodel\" models/face/"
      ],
      "metadata": {
        "id": "1r1r0inCYIut"
      },
      "execution_count": null,
      "outputs": []
    },
    {
      "cell_type": "code",
      "source": [
        "!rm -rf build && mkdir build && cd build && cmake -DUSE_CUDNN=OFF .. && make -j`nproc`"
      ],
      "metadata": {
        "id": "BXOSwr8cYyjx"
      },
      "execution_count": null,
      "outputs": []
    },
    {
      "cell_type": "code",
      "source": [
        "!./build/examples/openpose/openpose.bin \\\n",
        "    --video \"video.mp4\" \\\n",
        "    --display 0 \\\n",
        "    --write_video \"bone.mp4\" \\\n",
        "    --face --disable_blending"
      ],
      "metadata": {
        "id": "8rpylIAAPm6C"
      },
      "execution_count": null,
      "outputs": []
    },
    {
      "cell_type": "code",
      "source": [
        "import cv2\n",
        "import numpy as np\n",
        "\n",
        "cap = cv2.VideoCapture(\"bone.mp4\")\n",
        "\n",
        "img_width = 512\n",
        "img_height = 512\n",
        "fourcc = cv2.VideoWriter_fourcc(*'mp4v')\n",
        "writer = cv2.VideoWriter(\"bone2.mp4\",\n",
        "                         fourcc, 25.0, (img_width, img_height))\n",
        "\n",
        "while True:\n",
        "    ret, frame = cap.read()\n",
        "    if not ret:\n",
        "        break\n",
        "\n",
        "    img = frame\n",
        "    # imgの横にpaddingを入れる\n",
        "    pad = (img.shape[0] - img.shape[1]) // 2\n",
        "    tmp = np.pad(img, ((0, 0), (pad, pad), (0, 0)), 'edge')\n",
        "    tmp = cv2.resize(tmp, (img_width, img_height))\n",
        "    writer.write(tmp)\n",
        "writer.release()"
      ],
      "metadata": {
        "id": "Es3ykzfGT9K-"
      },
      "execution_count": 21,
      "outputs": []
    },
    {
      "cell_type": "code",
      "source": [],
      "metadata": {
        "id": "fz_rQ7fnoBQV"
      },
      "execution_count": null,
      "outputs": []
    }
  ]
}